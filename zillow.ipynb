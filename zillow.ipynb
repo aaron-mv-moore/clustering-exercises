{
 "cells": [
  {
   "cell_type": "code",
   "execution_count": 4,
   "id": "818f5617",
   "metadata": {},
   "outputs": [],
   "source": [
    "import pandas as pd\n",
    "import numpy as np\n",
    "from acquire import get_zillow"
   ]
  },
  {
   "cell_type": "code",
   "execution_count": 2,
   "id": "1a99aeff",
   "metadata": {},
   "outputs": [],
   "source": [
    "# getting df\n",
    "df = get_zillow()"
   ]
  },
  {
   "cell_type": "code",
   "execution_count": 6,
   "id": "80ff9490",
   "metadata": {},
   "outputs": [
    {
     "data": {
      "text/plain": [
       "(77579, 77)"
      ]
     },
     "execution_count": 6,
     "metadata": {},
     "output_type": "execute_result"
    }
   ],
   "source": [
    "# getting shape\n",
    "df.shape"
   ]
  },
  {
   "cell_type": "code",
   "execution_count": 9,
   "id": "96d66afa",
   "metadata": {},
   "outputs": [
    {
     "name": "stdout",
     "output_type": "stream",
     "text": [
      "<class 'pandas.core.frame.DataFrame'>\n",
      "RangeIndex: 77579 entries, 0 to 77578\n",
      "Data columns (total 77 columns):\n",
      " #   Column                        Non-Null Count  Dtype  \n",
      "---  ------                        --------------  -----  \n",
      " 0   id                            77579 non-null  int64  \n",
      " 1   parcelid                      77579 non-null  int64  \n",
      " 2   airconditioningtypeid         25007 non-null  float64\n",
      " 3   architecturalstyletypeid      207 non-null    float64\n",
      " 4   basementsqft                  50 non-null     float64\n",
      " 5   bathroomcnt                   77579 non-null  float64\n",
      " 6   bedroomcnt                    77579 non-null  float64\n",
      " 7   buildingclasstypeid           15 non-null     float64\n",
      " 8   buildingqualitytypeid         49809 non-null  float64\n",
      " 9   calculatedbathnbr             76963 non-null  float64\n",
      " 10  decktypeid                    614 non-null    float64\n",
      " 11  finishedfloor1squarefeet      6037 non-null   float64\n",
      " 12  calculatedfinishedsquarefeet  77378 non-null  float64\n",
      " 13  finishedsquarefeet12          73923 non-null  float64\n",
      " 14  finishedsquarefeet13          42 non-null     float64\n",
      " 15  finishedsquarefeet15          3027 non-null   float64\n",
      " 16  finishedsquarefeet50          6037 non-null   float64\n",
      " 17  finishedsquarefeet6           386 non-null    float64\n",
      " 18  fips                          77579 non-null  float64\n",
      " 19  fireplacecnt                  8289 non-null   float64\n",
      " 20  fullbathcnt                   76963 non-null  float64\n",
      " 21  garagecarcnt                  25520 non-null  float64\n",
      " 22  garagetotalsqft               25520 non-null  float64\n",
      " 23  hashottuborspa                1539 non-null   float64\n",
      " 24  heatingorsystemtypeid         49571 non-null  float64\n",
      " 25  latitude                      77579 non-null  float64\n",
      " 26  longitude                     77579 non-null  float64\n",
      " 27  lotsizesquarefeet             69321 non-null  float64\n",
      " 28  poolcnt                       16174 non-null  float64\n",
      " 29  poolsizesum                   869 non-null    float64\n",
      " 30  pooltypeid10                  465 non-null    float64\n",
      " 31  pooltypeid2                   1074 non-null   float64\n",
      " 32  pooltypeid7                   15079 non-null  float64\n",
      " 33  propertycountylandusecode     77579 non-null  object \n",
      " 34  propertylandusetypeid         77579 non-null  float64\n",
      " 35  propertyzoningdesc            50476 non-null  object \n",
      " 36  rawcensustractandblock        77579 non-null  float64\n",
      " 37  regionidcity                  76107 non-null  float64\n",
      " 38  regionidcounty                77579 non-null  float64\n",
      " 39  regionidneighborhood          30974 non-null  float64\n",
      " 40  regionidzip                   77529 non-null  float64\n",
      " 41  roomcnt                       77579 non-null  float64\n",
      " 42  storytypeid                   50 non-null     float64\n",
      " 43  threequarterbathnbr           10106 non-null  float64\n",
      " 44  typeconstructiontypeid        223 non-null    float64\n",
      " 45  unitcnt                       50703 non-null  float64\n",
      " 46  yardbuildingsqft17            2393 non-null   float64\n",
      " 47  yardbuildingsqft26            70 non-null     float64\n",
      " 48  yearbuilt                     77309 non-null  float64\n",
      " 49  numberofstories               17599 non-null  float64\n",
      " 50  fireplaceflag                 172 non-null    float64\n",
      " 51  structuretaxvaluedollarcnt    77464 non-null  float64\n",
      " 52  taxvaluedollarcnt             77578 non-null  float64\n",
      " 53  assessmentyear                77579 non-null  float64\n",
      " 54  landtaxvaluedollarcnt         77577 non-null  float64\n",
      " 55  taxamount                     77574 non-null  float64\n",
      " 56  taxdelinquencyflag            2900 non-null   object \n",
      " 57  taxdelinquencyyear            2900 non-null   float64\n",
      " 58  censustractandblock           77332 non-null  float64\n",
      " 59  id                            77579 non-null  int64  \n",
      " 60  parcelid                      77579 non-null  int64  \n",
      " 61  logerror                      77579 non-null  float64\n",
      " 62  transactiondate               77579 non-null  object \n",
      " 63  airconditioningtypeid         25007 non-null  float64\n",
      " 64  airconditioningdesc           25007 non-null  object \n",
      " 65  architecturalstyletypeid      207 non-null    float64\n",
      " 66  architecturalstyledesc        207 non-null    object \n",
      " 67  buildingclasstypeid           15 non-null     float64\n",
      " 68  buildingclassdesc             15 non-null     object \n",
      " 69  heatingorsystemtypeid         49571 non-null  float64\n",
      " 70  heatingorsystemdesc           49571 non-null  object \n",
      " 71  propertylandusetypeid         77579 non-null  int64  \n",
      " 72  propertylandusedesc           77579 non-null  object \n",
      " 73  storytypeid                   50 non-null     float64\n",
      " 74  storydesc                     50 non-null     object \n",
      " 75  typeconstructiontypeid        223 non-null    float64\n",
      " 76  typeconstructiondesc          223 non-null    object \n",
      "dtypes: float64(61), int64(5), object(11)\n",
      "memory usage: 45.6+ MB\n"
     ]
    }
   ],
   "source": [
    "df.info()"
   ]
  },
  {
   "cell_type": "code",
   "execution_count": 10,
   "id": "3262f755",
   "metadata": {},
   "outputs": [
    {
     "data": {
      "text/html": [
       "<div>\n",
       "<style scoped>\n",
       "    .dataframe tbody tr th:only-of-type {\n",
       "        vertical-align: middle;\n",
       "    }\n",
       "\n",
       "    .dataframe tbody tr th {\n",
       "        vertical-align: top;\n",
       "    }\n",
       "\n",
       "    .dataframe thead th {\n",
       "        text-align: right;\n",
       "    }\n",
       "</style>\n",
       "<table border=\"1\" class=\"dataframe\">\n",
       "  <thead>\n",
       "    <tr style=\"text-align: right;\">\n",
       "      <th></th>\n",
       "      <th>count</th>\n",
       "      <th>mean</th>\n",
       "      <th>std</th>\n",
       "      <th>min</th>\n",
       "      <th>25%</th>\n",
       "      <th>50%</th>\n",
       "      <th>75%</th>\n",
       "      <th>max</th>\n",
       "    </tr>\n",
       "  </thead>\n",
       "  <tbody>\n",
       "    <tr>\n",
       "      <th>id</th>\n",
       "      <td>77579.0</td>\n",
       "      <td>1.495392e+06</td>\n",
       "      <td>8.609686e+05</td>\n",
       "      <td>349.0</td>\n",
       "      <td>752142.0</td>\n",
       "      <td>1498227.0</td>\n",
       "      <td>2240879.0</td>\n",
       "      <td>2982274.0</td>\n",
       "    </tr>\n",
       "    <tr>\n",
       "      <th>parcelid</th>\n",
       "      <td>77579.0</td>\n",
       "      <td>1.300828e+07</td>\n",
       "      <td>3.519399e+06</td>\n",
       "      <td>10711855.0</td>\n",
       "      <td>11538198.0</td>\n",
       "      <td>12530543.0</td>\n",
       "      <td>14211357.5</td>\n",
       "      <td>167689317.0</td>\n",
       "    </tr>\n",
       "    <tr>\n",
       "      <th>airconditioningtypeid</th>\n",
       "      <td>25007.0</td>\n",
       "      <td>1.812013e+00</td>\n",
       "      <td>2.965768e+00</td>\n",
       "      <td>1.0</td>\n",
       "      <td>1.0</td>\n",
       "      <td>1.0</td>\n",
       "      <td>1.0</td>\n",
       "      <td>13.0</td>\n",
       "    </tr>\n",
       "    <tr>\n",
       "      <th>architecturalstyletypeid</th>\n",
       "      <td>207.0</td>\n",
       "      <td>7.386473e+00</td>\n",
       "      <td>2.728030e+00</td>\n",
       "      <td>2.0</td>\n",
       "      <td>7.0</td>\n",
       "      <td>7.0</td>\n",
       "      <td>7.0</td>\n",
       "      <td>21.0</td>\n",
       "    </tr>\n",
       "    <tr>\n",
       "      <th>basementsqft</th>\n",
       "      <td>50.0</td>\n",
       "      <td>6.797200e+02</td>\n",
       "      <td>6.897035e+02</td>\n",
       "      <td>38.0</td>\n",
       "      <td>273.0</td>\n",
       "      <td>515.0</td>\n",
       "      <td>796.5</td>\n",
       "      <td>3560.0</td>\n",
       "    </tr>\n",
       "    <tr>\n",
       "      <th>...</th>\n",
       "      <td>...</td>\n",
       "      <td>...</td>\n",
       "      <td>...</td>\n",
       "      <td>...</td>\n",
       "      <td>...</td>\n",
       "      <td>...</td>\n",
       "      <td>...</td>\n",
       "      <td>...</td>\n",
       "    </tr>\n",
       "    <tr>\n",
       "      <th>buildingclasstypeid</th>\n",
       "      <td>15.0</td>\n",
       "      <td>3.933333e+00</td>\n",
       "      <td>2.581989e-01</td>\n",
       "      <td>3.0</td>\n",
       "      <td>4.0</td>\n",
       "      <td>4.0</td>\n",
       "      <td>4.0</td>\n",
       "      <td>4.0</td>\n",
       "    </tr>\n",
       "    <tr>\n",
       "      <th>heatingorsystemtypeid</th>\n",
       "      <td>49571.0</td>\n",
       "      <td>3.921749e+00</td>\n",
       "      <td>3.594780e+00</td>\n",
       "      <td>1.0</td>\n",
       "      <td>2.0</td>\n",
       "      <td>2.0</td>\n",
       "      <td>7.0</td>\n",
       "      <td>24.0</td>\n",
       "    </tr>\n",
       "    <tr>\n",
       "      <th>propertylandusetypeid</th>\n",
       "      <td>77579.0</td>\n",
       "      <td>2.618245e+02</td>\n",
       "      <td>5.141596e+00</td>\n",
       "      <td>31.0</td>\n",
       "      <td>261.0</td>\n",
       "      <td>261.0</td>\n",
       "      <td>266.0</td>\n",
       "      <td>275.0</td>\n",
       "    </tr>\n",
       "    <tr>\n",
       "      <th>storytypeid</th>\n",
       "      <td>50.0</td>\n",
       "      <td>7.000000e+00</td>\n",
       "      <td>0.000000e+00</td>\n",
       "      <td>7.0</td>\n",
       "      <td>7.0</td>\n",
       "      <td>7.0</td>\n",
       "      <td>7.0</td>\n",
       "      <td>7.0</td>\n",
       "    </tr>\n",
       "    <tr>\n",
       "      <th>typeconstructiontypeid</th>\n",
       "      <td>223.0</td>\n",
       "      <td>6.040359e+00</td>\n",
       "      <td>5.560348e-01</td>\n",
       "      <td>4.0</td>\n",
       "      <td>6.0</td>\n",
       "      <td>6.0</td>\n",
       "      <td>6.0</td>\n",
       "      <td>13.0</td>\n",
       "    </tr>\n",
       "  </tbody>\n",
       "</table>\n",
       "<p>66 rows × 8 columns</p>\n",
       "</div>"
      ],
      "text/plain": [
       "                            count          mean           std         min  \\\n",
       "id                        77579.0  1.495392e+06  8.609686e+05       349.0   \n",
       "parcelid                  77579.0  1.300828e+07  3.519399e+06  10711855.0   \n",
       "airconditioningtypeid     25007.0  1.812013e+00  2.965768e+00         1.0   \n",
       "architecturalstyletypeid    207.0  7.386473e+00  2.728030e+00         2.0   \n",
       "basementsqft                 50.0  6.797200e+02  6.897035e+02        38.0   \n",
       "...                           ...           ...           ...         ...   \n",
       "buildingclasstypeid          15.0  3.933333e+00  2.581989e-01         3.0   \n",
       "heatingorsystemtypeid     49571.0  3.921749e+00  3.594780e+00         1.0   \n",
       "propertylandusetypeid     77579.0  2.618245e+02  5.141596e+00        31.0   \n",
       "storytypeid                  50.0  7.000000e+00  0.000000e+00         7.0   \n",
       "typeconstructiontypeid      223.0  6.040359e+00  5.560348e-01         4.0   \n",
       "\n",
       "                                 25%         50%         75%          max  \n",
       "id                          752142.0   1498227.0   2240879.0    2982274.0  \n",
       "parcelid                  11538198.0  12530543.0  14211357.5  167689317.0  \n",
       "airconditioningtypeid            1.0         1.0         1.0         13.0  \n",
       "architecturalstyletypeid         7.0         7.0         7.0         21.0  \n",
       "basementsqft                   273.0       515.0       796.5       3560.0  \n",
       "...                              ...         ...         ...          ...  \n",
       "buildingclasstypeid              4.0         4.0         4.0          4.0  \n",
       "heatingorsystemtypeid            2.0         2.0         7.0         24.0  \n",
       "propertylandusetypeid          261.0       261.0       266.0        275.0  \n",
       "storytypeid                      7.0         7.0         7.0          7.0  \n",
       "typeconstructiontypeid           6.0         6.0         6.0         13.0  \n",
       "\n",
       "[66 rows x 8 columns]"
      ]
     },
     "execution_count": 10,
     "metadata": {},
     "output_type": "execute_result"
    }
   ],
   "source": [
    "df.describe().T"
   ]
  },
  {
   "cell_type": "code",
   "execution_count": 74,
   "id": "a49d9d6d",
   "metadata": {},
   "outputs": [
    {
     "data": {
      "text/plain": [
       "False    77226\n",
       "True       197\n",
       "dtype: int64"
      ]
     },
     "execution_count": 74,
     "metadata": {},
     "output_type": "execute_result"
    }
   ],
   "source": [
    "# looking at duplicated parcel id's\n",
    "df.duplicated(subset=['parcelid']).value_counts()"
   ]
  },
  {
   "cell_type": "code",
   "execution_count": 82,
   "id": "c3092d84",
   "metadata": {},
   "outputs": [],
   "source": [
    "# replacing duplicates and keeping the first\n",
    "df = df.sort_values('transactiondate', ascending=False).drop_duplicates(subset=['parcelid'], keep='first')"
   ]
  },
  {
   "cell_type": "code",
   "execution_count": 85,
   "id": "7ba60839",
   "metadata": {},
   "outputs": [
    {
     "data": {
      "text/plain": [
       "77578    False\n",
       "77577    False\n",
       "77576    False\n",
       "77575    False\n",
       "77574    False\n",
       "         ...  \n",
       "5        False\n",
       "4        False\n",
       "3        False\n",
       "2        False\n",
       "0        False\n",
       "Length: 77226, dtype: bool"
      ]
     },
     "execution_count": 85,
     "metadata": {},
     "output_type": "execute_result"
    }
   ],
   "source": [
    "df.duplicated()"
   ]
  },
  {
   "cell_type": "code",
   "execution_count": 87,
   "id": "006fc542",
   "metadata": {},
   "outputs": [],
   "source": [
    "def getDuplicateColumns(df):\n",
    "\n",
    "\t# Create an empty set\n",
    "\tduplicateColumnNames = set()\n",
    "\n",
    "\t# Iterate through all the columns\n",
    "\t# of dataframe\n",
    "\tfor x in range(df.shape[1]):\n",
    "\n",
    "\t\t# Take column at xth index.\n",
    "\t\tcol = df.iloc[:, x]\n",
    "\n",
    "\t\t# Iterate through all the columns in\n",
    "\t\t# DataFrame from (x + 1)th index to\n",
    "\t\t# last index\n",
    "\t\tfor y in range(x + 1, df.shape[1]):\n",
    "\n",
    "\t\t\t# Take column at yth index.\n",
    "\t\t\totherCol = df.iloc[:, y]\n",
    "\n",
    "\t\t\t# Check if two columns at x & y\n",
    "\t\t\t# index are equal or not,\n",
    "\t\t\t# if equal then adding\n",
    "\t\t\t# to the set\n",
    "\t\t\tif col.equals(otherCol):\n",
    "\t\t\t\tduplicateColumnNames.add(df.columns.values[y])\n",
    "\n",
    "\t# Return list of unique column names\n",
    "\t# whose contents are duplicates.\n",
    "\treturn list(duplicateColumnNames)\n"
   ]
  },
  {
   "cell_type": "code",
   "execution_count": 88,
   "id": "2aa9c94c",
   "metadata": {},
   "outputs": [
    {
     "data": {
      "text/plain": [
       "['parcelid', 'heatingorsystemtypeid']"
      ]
     },
     "execution_count": 88,
     "metadata": {},
     "output_type": "execute_result"
    }
   ],
   "source": [
    "getDuplicateColumns(df)"
   ]
  },
  {
   "cell_type": "code",
   "execution_count": 11,
   "id": "0674dc55",
   "metadata": {},
   "outputs": [],
   "source": [
    "def remove_columns(df, cols_to_remove):  \n",
    "    df = df.drop(columns=cols_to_remove)\n",
    "    return df"
   ]
  },
  {
   "cell_type": "code",
   "execution_count": 25,
   "id": "be471378",
   "metadata": {},
   "outputs": [],
   "source": [
    "def handle_missing_values(df, prop_required_col = .5, prop_required_row = .75):\n",
    "    '''\n",
    "    Actions: this function removes columns and rows based on the proportion of data missing\n",
    "    \n",
    "    '''\n",
    "    # COL\n",
    "    # setting a threshold for columns based on kwarg\n",
    "    threshold = int(round(prop_required_col*len(df.index), 0))\n",
    "    \n",
    "    # dropping the null values that meet the threshold established\n",
    "    df.dropna(axis=1, thresh=threshold, inplace=True)\n",
    "    \n",
    "    # ROW\n",
    "    # setting a threshold for the rows based on the kwarg\n",
    "    threshold = int(round(prop_required_row*len(df.columns), 0))\n",
    "    \n",
    "    # dropping the null values that meet the threshold established\n",
    "    df.dropna(axis=0, thresh=threshold, inplace=True)\n",
    "    \n",
    "    return df"
   ]
  },
  {
   "cell_type": "code",
   "execution_count": 20,
   "id": "ecc5ede6",
   "metadata": {},
   "outputs": [
    {
     "name": "stdout",
     "output_type": "stream",
     "text": [
      "38790\n"
     ]
    }
   ],
   "source": [
    "# setting proportion\n",
    "prop_required_col = .5\n",
    "\n",
    "# creating a threshold amount \n",
    "threshold = int(round(prop_required_col*len(df.index), 0))\n",
    "print(threshold)"
   ]
  },
  {
   "cell_type": "code",
   "execution_count": 23,
   "id": "e38009b2",
   "metadata": {},
   "outputs": [
    {
     "data": {
      "text/plain": [
       "38"
      ]
     },
     "execution_count": 23,
     "metadata": {},
     "output_type": "execute_result"
    }
   ],
   "source": [
    "len((df.dropna(axis=1, thresh=threshold)).columns)"
   ]
  },
  {
   "cell_type": "code",
   "execution_count": 26,
   "id": "4683b626",
   "metadata": {},
   "outputs": [],
   "source": [
    "# removing missing values now\n",
    "df_prep = handle_missing_values(df)"
   ]
  },
  {
   "cell_type": "code",
   "execution_count": 28,
   "id": "2a066672",
   "metadata": {},
   "outputs": [
    {
     "data": {
      "text/plain": [
       "(77423, 38)"
      ]
     },
     "execution_count": 28,
     "metadata": {},
     "output_type": "execute_result"
    }
   ],
   "source": [
    "df_prep.shape"
   ]
  }
 ],
 "metadata": {
  "kernelspec": {
   "display_name": "Python 3 (ipykernel)",
   "language": "python",
   "name": "python3"
  },
  "language_info": {
   "codemirror_mode": {
    "name": "ipython",
    "version": 3
   },
   "file_extension": ".py",
   "mimetype": "text/x-python",
   "name": "python",
   "nbconvert_exporter": "python",
   "pygments_lexer": "ipython3",
   "version": "3.9.13"
  }
 },
 "nbformat": 4,
 "nbformat_minor": 5
}
